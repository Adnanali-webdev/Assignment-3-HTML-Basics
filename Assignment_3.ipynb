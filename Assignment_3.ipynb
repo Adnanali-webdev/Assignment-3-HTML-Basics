{
  "nbformat": 4,
  "nbformat_minor": 0,
  "metadata": {
    "colab": {
      "provenance": []
    },
    "kernelspec": {
      "name": "python3",
      "display_name": "Python 3"
    },
    "language_info": {
      "name": "python"
    }
  },
  "cells": [
    {
      "cell_type": "markdown",
      "source": [
        "Assignment-3 : HTML Basics"
      ],
      "metadata": {
        "id": "4p3L2tb34a8o"
      }
    },
    {
      "cell_type": "markdown",
      "source": [
        "Q1). Write a simple program in HTML that displays the heading \"HTML defines the\n",
        "     content and structure of your website” on the web browser?"
      ],
      "metadata": {
        "id": "OLSeGz0T4sBP"
      }
    },
    {
      "cell_type": "markdown",
      "source": [
        "Ans). The simple program in HTML to display the heading are\n"
      ],
      "metadata": {
        "id": "BLU9I7jP5rnG"
      }
    },
    {
      "cell_type": "code",
      "source": [
        "from IPython.display import HTML\n",
        "\n",
        "\n",
        "html_code = \"\"\"\n",
        "<!DOCTYPE html>\n",
        "<html lang=\"en\">\n",
        "<head>\n",
        "    <meta charset=\"UTF-8\">\n",
        "    <meta name=\"viewport\" content=\"width=device-width, initial-scale=1.0\">\n",
        "    <title>Heading</title>\n",
        "</head>\n",
        "<body>\n",
        "    <h1> \"HTML defines the content and structure of your website” </h1>\n",
        "</body>\n",
        "</html>\n",
        "\"\"\"\n",
        "display(HTML(html_code))"
      ],
      "metadata": {
        "colab": {
          "base_uri": "https://localhost:8080/",
          "height": 74
        },
        "id": "SMM7KOEK57T1",
        "outputId": "f8ec9c8e-1030-4760-b86e-b9a286d6590e"
      },
      "execution_count": null,
      "outputs": [
        {
          "output_type": "display_data",
          "data": {
            "text/plain": [
              "<IPython.core.display.HTML object>"
            ],
            "text/html": [
              "\n",
              "<!DOCTYPE html>\n",
              "<html lang=\"en\">\n",
              "<head>\n",
              "    <meta charset=\"UTF-8\">\n",
              "    <meta name=\"viewport\" content=\"width=device-width, initial-scale=1.0\">\n",
              "    <title>Heading</title>\n",
              "</head>\n",
              "<body>\n",
              "    <h1> \"HTML defines the content and structure of your website” </h1>\n",
              "</body>\n",
              "</html>\n"
            ]
          },
          "metadata": {}
        }
      ]
    },
    {
      "cell_type": "markdown",
      "source": [],
      "metadata": {
        "id": "tV-61QdZ6_ot"
      }
    },
    {
      "cell_type": "markdown",
      "source": [
        "Q2). Explain the purpose of comments in HTML and provide an example of how to\n",
        "     use comments in an HTML document?"
      ],
      "metadata": {
        "id": "4Kd3drdx9wUA"
      }
    },
    {
      "cell_type": "markdown",
      "source": [
        "Ans) An HTML comment is used to add explanatory notes to the markup or to\n",
        "     prevent the browser from interpreting specific parts of the document.\n",
        "\n",
        "     Comments start with the string <!-- and end with the string -->, generally with text in between.\n",
        "\n",
        "     The browser ignores comments as it renders the code. In other words, they are not visible on the page - just in the code. HTML comments are a way for you to write helpful notes about your code or logic.\n",
        "\n",
        "     Comments can be used on a single line or span multiple lines."
      ],
      "metadata": {
        "id": "Fs33pH33-B6N"
      }
    },
    {
      "cell_type": "code",
      "source": [
        "from IPython.display import HTML\n",
        "\n",
        "\n",
        "html_code =\"\"\"\n",
        "<!DOCTYPE html>\n",
        "<html lang=\"en\">\n",
        "\n",
        "<head>\n",
        "    <meta charset=\"UTF-8\">\n",
        "    <meta name=\"viewport\" content=\"width=device-width, initial-scale=1.0\">\n",
        "    <title>Comment</title>\n",
        "</head>\n",
        "\n",
        "<body>\n",
        "    <!--This is single line comment-->\n",
        "\n",
        "\n",
        "    <!--This is\n",
        "    multiple\n",
        "    line\n",
        "    comment  -->\n",
        "\n",
        "\n",
        "\n",
        "    <!-- <p>The comment below disables\n",
        "        the HTML contained And This content will not be rendered\n",
        "    </p> -->\n",
        "</body>\n",
        "\n",
        "</html>\n",
        "\"\"\"\n",
        "display(HTML(html_code))"
      ],
      "metadata": {
        "colab": {
          "base_uri": "https://localhost:8080/",
          "height": 17
        },
        "id": "zqXibUVCBscU",
        "outputId": "960854e6-f0aa-42d8-c09a-33cf55b91367"
      },
      "execution_count": null,
      "outputs": [
        {
          "output_type": "display_data",
          "data": {
            "text/plain": [
              "<IPython.core.display.HTML object>"
            ],
            "text/html": [
              "\n",
              "<!DOCTYPE html>\n",
              "<html lang=\"en\">\n",
              "\n",
              "<head>\n",
              "    <meta charset=\"UTF-8\">\n",
              "    <meta name=\"viewport\" content=\"width=device-width, initial-scale=1.0\">\n",
              "    <title>Comment</title>\n",
              "</head>\n",
              "\n",
              "<body>\n",
              "    <!--This is single line comment-->\n",
              "\n",
              "   \n",
              "    <!--This is \n",
              "    multiple \n",
              "    line \n",
              "    comment  -->\n",
              "\n",
              "    \n",
              "    \n",
              "    <!-- <p>The comment below disables\n",
              "        the HTML contained And This content will not be rendered\n",
              "    </p> -->\n",
              "</body>\n",
              "\n",
              "</html>\n"
            ]
          },
          "metadata": {}
        }
      ]
    },
    {
      "cell_type": "markdown",
      "source": [
        "Q3). Write an HTML program that includes a heading, a paragraph of text, a\n",
        "     horizontal line, and a line break. Arrange these elements to create a simple web page layout?"
      ],
      "metadata": {
        "id": "8m-duM8TDkaT"
      }
    },
    {
      "cell_type": "markdown",
      "source": [
        "Ans) A simple Web page layout using heading, paragaraph, horizontal line, and line break are below  "
      ],
      "metadata": {
        "id": "2ucQzvelD8Mm"
      }
    },
    {
      "cell_type": "code",
      "execution_count": null,
      "metadata": {
        "id": "ylBQHKxg4HqI"
      },
      "outputs": [],
      "source": [
        "from IPython.display import HTML\n",
        "\n",
        "\n",
        "html_code = \"\"\"\n",
        "<!DOCTYPE html>\n",
        "<html lang=\"en\">\n",
        "<head>\n",
        "    <meta charset=\"UTF-8\">\n",
        "    <meta name=\"viewport\" content=\"width=device-width, initial-scale=1.0\">\n",
        "    <title>A simple Webpage layout</title>\n",
        "</head>\n",
        "<body>\n",
        "    <h1 style=\"text-align:center;\">Hi! Welcome to our Webpage</h1>\n",
        "    <hr>\n",
        "    <h6 style=\"text-align:left; color:rgb(204, 27, 27); font-size: 28px;\">below are the content of <br> the Webpage</h6>\n",
        "    <hr>\n",
        "    <p style=\"text-align:left;\">\n",
        "    Lorem ipsum, dolor sit amet consectetur adipisicing elit.<br>\n",
        "    Autem quia iste iure aut pariatur nam dignissimos perspiciatis corporis eaque eos error minus veniam quo fugiat facilis neque qui quidem animi maxime amet, adipisci quis. Sed dolorum maxime ab ullam autem reprehenderit dignissimos, quos, aperiam beatae ut ipsum cupiditate totam dolore!\n",
        "\n",
        "    </p>\n",
        "</body>\n",
        "</html>\n",
        "\"\"\"\n",
        "display(HTML(html_code))"
      ]
    },
    {
      "cell_type": "markdown",
      "source": [
        "Q4) Write a short note on Tag and element with an example?\n",
        "\n",
        "Ans) HTML uses a system of \"tags\" to define the structure and layout of web\n",
        "     pages. Tags are the building blocks of HTML documents and consist of angle brackets enclosing specific keywords. These tags provide instructions to\n",
        "     web browsers on how to display the content.\n",
        "     \n",
        "                    or\n",
        "     \n",
        "  Tag : a tag is the smallest individual unit in HTML using Multiple tag  we generally create a webpage\n",
        "\n",
        "  An HTML tag is composed of an opening tag and, in some cases, a closing tag. The opening tag starts with the\n",
        "less-than symbol (<), followed by the tag name, and ends with a greater-than symbol (>). The closing tag is\n",
        "similar, but it also includes a forward slash (/) before the tag name.\n",
        "For example:\n",
        "Opening tag: <--tagname-->\n",
        "Closing tag: <--/tagname-->\n",
        "\n",
        "  # There are two types of tags :\n",
        "\n",
        "  - Self closing Tags\n",
        "\n",
        "there is only opening or closing tag means there is only one single tag is there called as self closing tags\n",
        "\n",
        "eg: `<img ——/>` or many more are there, meta tag, `<br>` tag, `<hr>`\n",
        "\n",
        "  no nested tags are possible because it only has opening or closing so we cannot place another tag inside the main tag\n",
        "\n",
        " - non-self closing Tags (paired tags)\n",
        "\n",
        "a pair of opening and closing tag is called as non-self closing tag\n",
        "\n",
        "eg : `<p></p>`, heading ,footer etc.\n",
        "\n",
        "In that nested tag is possible because non-self closing tags have open and close tag\n",
        "\n",
        "eg :    \n",
        "         \n",
        "        <p>\n",
        "\n",
        "           <p>\n",
        "\n",
        "      <p>                     this is nested\n",
        "\n",
        "      </p>\n",
        "\n",
        "        </p>\n",
        "\n",
        "              </p>\n",
        "\n",
        "\n",
        "now, come to on element\n",
        "An HTML Element consists of a start tag, content, and an end tag, which together define the element’s structure and functionality. Elements are the basic building blocks of a webpage and can represent different types of content, such as text, links, images, or headings\n",
        "\n",
        "       or\n",
        "\n",
        "The HTML element consists of both the opening and closing tags as well as what’s inside those tags. It normally consists of some structure that’s used to define the respective tags.\n",
        "\n",
        "Example: In this example `<p>` is the starting tag and `</p>` is the ending tag but with content inside it.\n",
        "\n"
      ],
      "metadata": {
        "id": "bAop2ROTI_1W"
      }
    },
    {
      "cell_type": "code",
      "source": [
        "from IPython.display import HTML\n",
        "\n",
        "\n",
        "html_code = \"\"\"\n",
        "<!DOCTYPE html>\n",
        "<html lang=\"en\">\n",
        "<head>\n",
        "    <meta charset=\"UTF-8\">\n",
        "    <meta name=\"viewport\" content=\"width=device-width, initial-scale=1.0\">\n",
        "    <title>A simple Webpage layout</title>\n",
        "</head>\n",
        "<body>\n",
        "    <p>This is the content.</p>\n",
        "</body>\n",
        "</html>\n",
        "\"\"\"\n",
        "display(HTML(html_code))"
      ],
      "metadata": {
        "colab": {
          "base_uri": "https://localhost:8080/",
          "height": 46
        },
        "id": "qFFWkidmld2F",
        "outputId": "673980c6-66c5-4a01-c51d-5dbda759bdfd"
      },
      "execution_count": 2,
      "outputs": [
        {
          "output_type": "display_data",
          "data": {
            "text/plain": [
              "<IPython.core.display.HTML object>"
            ],
            "text/html": [
              "\n",
              "<!DOCTYPE html>\n",
              "<html lang=\"en\">\n",
              "<head>\n",
              "    <meta charset=\"UTF-8\">\n",
              "    <meta name=\"viewport\" content=\"width=device-width, initial-scale=1.0\">\n",
              "    <title>A simple Webpage layout</title>\n",
              "</head>\n",
              "<body>\n",
              "    <p>This is the content.</p>\n",
              "</body>\n",
              "</html>\n"
            ]
          },
          "metadata": {}
        }
      ]
    },
    {
      "cell_type": "markdown",
      "source": [
        "Q5)  What is the DOCTYPE Declaration in HTML?\n",
        "\n",
        " Ans) <!DOCTYPE html>: We start the file with `<!DOCTYPE html>`. It tells the browser what type of document to\n",
        "expect; in this case it is an HTML document4\n",
        "* The `<DOCTYPE>` declaration represents the document type, and helps browsers to display web pages\n",
        "correctly4\n",
        "* It must appear only once, at the top of the page(before HTML tag)4\n",
        "* The `<DOCTYPE>` declaration is not case sensitive. We can write any of the following, it does not give any\n",
        "error.\n",
        "\n",
        "`<!DOCTYPE html>`<br>\n",
        "`<!DocType html>`<br>\n",
        "`<!Doctype html>`<br>\n",
        "`<!doctype html>`"
      ],
      "metadata": {
        "id": "uqxG2zCfnfrh"
      }
    },
    {
      "cell_type": "markdown",
      "source": [],
      "metadata": {
        "id": "g1PKs7LzJKxD"
      }
    }
  ]
}